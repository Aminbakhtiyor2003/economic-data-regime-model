{
 "cells": [
  {
   "cell_type": "code",
   "execution_count": 59,
   "id": "02408b28-2d89-4ee4-aeb7-254790eced56",
   "metadata": {},
   "outputs": [
    {
     "name": "stdout",
     "output_type": "stream",
     "text": [
      "['Date', 'Industrial Production (Mom %)', ' Capacity Utilization Index Mom (%)', ' Nonfarm Payrolls Index Mom (%)', ' Nonfarm Payrolls Index Mom (%).1', ' Advance Retail Sales Index Mom (%)', 'Manufacturers New Orders Index Mom (%)', 'Real GDP QoQ (%)', 'Real Personal Income MoM (%)', 'Industrial Production (Mom %)_Label', ' Capacity Utilization Index Mom (%)_Label', ' Nonfarm Payrolls Index Mom (%)_Label', ' Nonfarm Payrolls Index Mom (%).1_Label', ' Advance Retail Sales Index Mom (%)_Label', 'Manufacturers New Orders Index Mom (%)_Label', 'Real GDP QoQ (%)_Label', 'Real Personal Income MoM (%)_Label']\n"
     ]
    }
   ],
   "source": [
    "import pandas as pd\n",
    "\n",
    "# Load your CSV\n",
    "df = pd.read_csv(\"growth_zscores_labeled.csv\")\n",
    "\n",
    "# Print all column names\n",
    "print(df.columns.tolist())\n"
   ]
  },
  {
   "cell_type": "code",
   "execution_count": 61,
   "id": "0e05b74e-1900-443e-9052-b557a55509fb",
   "metadata": {
    "scrolled": true
   },
   "outputs": [
    {
     "name": "stdout",
     "output_type": "stream",
     "text": [
      "'Date'\n",
      "'Industrial Production (Mom %)'\n",
      "' Capacity Utilization Index Mom (%)'\n",
      "' Nonfarm Payrolls Index Mom (%)'\n",
      "' Nonfarm Payrolls Index Mom (%).1'\n",
      "' Advance Retail Sales Index Mom (%)'\n",
      "'Manufacturers New Orders Index Mom (%)'\n",
      "'Real GDP QoQ (%)'\n",
      "'Real Personal Income MoM (%)'\n"
     ]
    }
   ],
   "source": [
    "import pandas as pd\n",
    "\n",
    "df = pd.read_csv(\"growth_data.csv\")\n",
    "\n",
    "# Show column names clearly\n",
    "for col in df.columns:\n",
    "    print(f\"'{col}'\")\n"
   ]
  },
  {
   "cell_type": "code",
   "execution_count": 63,
   "id": "1df71c2d-62e1-4ea0-8afd-9078bf979fa4",
   "metadata": {},
   "outputs": [
    {
     "name": "stdout",
     "output_type": "stream",
     "text": [
      "['Date', 'Industrial_Production_Z', 'Capacity_Utilization_Z', 'Nonfarm_Payrolls_Z', 'Unemployment_Rate_Z', 'Retail_Sales_Z', 'Durable_Goods_Orders_Z', 'Real_GDP_Z', 'Real_Income_Z']\n"
     ]
    }
   ],
   "source": [
    "import pandas as pd\n",
    "\n",
    "# Load the data\n",
    "df = pd.read_csv(\"growth_data.csv\")\n",
    "\n",
    "# Step 1: Strip leading/trailing whitespace\n",
    "df.columns = df.columns.str.strip()\n",
    "\n",
    "# Step 2: Rename all columns to clean, code-friendly names\n",
    "df.rename(columns={\n",
    "    'Industrial Production (Mom %)': 'Industrial_Production_Z',\n",
    "    'Capacity Utilization Index Mom (%)': 'Capacity_Utilization_Z',\n",
    "    'Nonfarm Payrolls Index Mom (%)': 'Nonfarm_Payrolls_Z',\n",
    "    'Nonfarm Payrolls Index Mom (%).1': 'Unemployment_Rate_Z',\n",
    "    'Advance Retail Sales Index Mom (%)': 'Retail_Sales_Z',\n",
    "    'Manufacturers New Orders Index Mom (%)': 'Durable_Goods_Orders_Z',\n",
    "    'Real GDP QoQ (%)': 'Real_GDP_Z',\n",
    "    'Real Personal Income MoM (%)': 'Real_Income_Z'\n",
    "}, inplace=True)\n",
    "\n",
    "# Check that it worked\n",
    "print(df.columns.tolist())\n",
    "\n"
   ]
  },
  {
   "cell_type": "code",
   "execution_count": 65,
   "id": "7bd49475-2607-448d-923d-04a390dda5ae",
   "metadata": {},
   "outputs": [
    {
     "name": "stdout",
     "output_type": "stream",
     "text": [
      "         Date  Production_SubTheme_Score\n",
      "0  1992-04-01                      69.25\n",
      "1  1992-05-01                      58.25\n",
      "2  1992-06-01                      51.50\n",
      "3  1992-07-01                      72.75\n",
      "4  1992-08-01                      36.00\n"
     ]
    }
   ],
   "source": [
    "# Define sub-theme weights\n",
    "weights_production = {\n",
    "    'Industrial_Production_Z': 0.6,\n",
    "    'Capacity_Utilization_Z': 0.4\n",
    "}\n",
    "\n",
    "# Define your scoring function\n",
    "def normalized_contribution(z, weight, cap=2.0):\n",
    "    z = max(min(z, cap), -cap)               # Cap between -2 and +2\n",
    "    scaled = (z + cap) / (2 * cap)           # Scale to 0–1\n",
    "    return scaled * weight                   # Apply weight\n",
    "\n",
    "# Apply the function and calculate the Production Sub-Theme Score\n",
    "df['Production_SubTheme_Score'] = (\n",
    "    df['Industrial_Production_Z'].apply(lambda z: normalized_contribution(z, 0.6)) +\n",
    "    df['Capacity_Utilization_Z'].apply(lambda z: normalized_contribution(z, 0.4))\n",
    ") * 100  # Final score out of 100\n",
    "\n",
    "# Round it for display\n",
    "df['Production_SubTheme_Score'] = df['Production_SubTheme_Score'].round(2)\n",
    "\n",
    "# Preview the result\n",
    "print(df[['Date', 'Production_SubTheme_Score']].head())\n"
   ]
  },
  {
   "cell_type": "code",
   "execution_count": 67,
   "id": "ded92b7b-24fe-4487-8efe-13660d6443d1",
   "metadata": {},
   "outputs": [],
   "source": [
    "weights_demand = {\n",
    "    'Retail_Sales_Z': 0.6,\n",
    "    'Real_Income_Z': 0.4\n",
    "}\n",
    "\n",
    "df['Demand_SubTheme_Score'] = (\n",
    "    df['Retail_Sales_Z'].apply(lambda z: normalized_contribution(z, 0.6)) +\n",
    "    df['Real_Income_Z'].apply(lambda z: normalized_contribution(z, 0.4))\n",
    ") * 100\n",
    "\n",
    "df['Demand_SubTheme_Score'] = df['Demand_SubTheme_Score'].round(2)\n",
    "\n",
    "weights_labor = {\n",
    "    'Nonfarm_Payrolls_Z': 0.7,\n",
    "    'Unemployment_Rate_Z': 0.3\n",
    "}\n",
    "\n",
    "df['Labor_SubTheme_Score'] = (\n",
    "    df['Nonfarm_Payrolls_Z'].apply(lambda z: normalized_contribution(z, 0.7)) +\n",
    "    df['Unemployment_Rate_Z'].apply(lambda z: normalized_contribution(z, 0.3))\n",
    ") * 100\n",
    "\n",
    "df['Labor_SubTheme_Score'] = df['Labor_SubTheme_Score'].round(2)\n",
    "\n",
    "df['Investment_SubTheme_Score'] = df['Durable_Goods_Orders_Z'].apply(lambda z: normalized_contribution(z, 1.0)) * 100\n",
    "df['Investment_SubTheme_Score'] = df['Investment_SubTheme_Score'].round(2)\n",
    "\n",
    "df['GDP_SubTheme_Score'] = df['Real_GDP_Z'].apply(lambda z: normalized_contribution(z, 1.0)) * 100\n",
    "df['GDP_SubTheme_Score'] = df['GDP_SubTheme_Score'].round(2)\n",
    "\n",
    "# Demand Sub-Theme weights\n",
    "weights_demand = {\n",
    "    'Retail_Sales_Z': 0.6,\n",
    "    'Real_Income_Z': 0.4\n",
    "}\n",
    "\n",
    "# Calculate Demand Sub-Theme Score\n",
    "df['Demand_SubTheme_Score'] = (\n",
    "    df['Retail_Sales_Z'].apply(lambda z: normalized_contribution(z, 0.6)) +\n",
    "    df['Real_Income_Z'].apply(lambda z: normalized_contribution(z, 0.4))\n",
    ") * 100\n",
    "\n",
    "df['Demand_SubTheme_Score'] = df['Demand_SubTheme_Score'].round(2)\n",
    "\n",
    "df['Demand_SubTheme_Score'] = (\n",
    "    df['Retail_Sales_Z'].apply(lambda z: normalized_contribution(z, 0.6)) +\n",
    "    df['Real_Income_Z'].apply(lambda z: normalized_contribution(z, 0.4))\n",
    ") * 100\n",
    "\n",
    "df['Demand_SubTheme_Score'] = df['Demand_SubTheme_Score'].round(2)\n",
    "\n",
    "\n"
   ]
  },
  {
   "cell_type": "code",
   "execution_count": 69,
   "id": "8b2c287d-1535-4035-8705-bc7338c21462",
   "metadata": {
    "scrolled": true
   },
   "outputs": [],
   "source": [
    "# Growth sub-theme weights\n",
    "growth_theme_weights = {\n",
    "    'Production_SubTheme_Score': 0.20,\n",
    "    'Labor_SubTheme_Score': 0.30,\n",
    "    'Demand_SubTheme_Score': 0.25,\n",
    "    'Investment_SubTheme_Score': 0.15,\n",
    "    'GDP_SubTheme_Score': 0.10\n",
    "}\n",
    "\n",
    "# Compute weighted sum of sub-theme scores\n",
    "df['Growth_Theme_Score'] = sum(\n",
    "    df[col] * weight for col, weight in growth_theme_weights.items()\n",
    ").round(2)\n"
   ]
  },
  {
   "cell_type": "code",
   "execution_count": 71,
   "id": "32ed25ab-4952-473c-a8e1-04086062f207",
   "metadata": {},
   "outputs": [
    {
     "name": "stdout",
     "output_type": "stream",
     "text": [
      "['Date', 'Industrial_Production_Z', 'Capacity_Utilization_Z', 'Nonfarm_Payrolls_Z', 'Unemployment_Rate_Z', 'Retail_Sales_Z', 'Durable_Goods_Orders_Z', 'Real_GDP_Z', 'Real_Income_Z', 'Production_SubTheme_Score', 'Demand_SubTheme_Score', 'Labor_SubTheme_Score', 'Investment_SubTheme_Score', 'GDP_SubTheme_Score', 'Growth_Theme_Score']\n"
     ]
    }
   ],
   "source": [
    "print(df.columns.tolist())\n"
   ]
  },
  {
   "cell_type": "code",
   "execution_count": 73,
   "id": "3c82e75a-a25a-4506-afb4-391420f631d5",
   "metadata": {
    "scrolled": true
   },
   "outputs": [],
   "source": [
    "growth_theme_weights = {\n",
    "    'Production_SubTheme_Score': 0.20,\n",
    "    'Labor_SubTheme_Score': 0.30,\n",
    "    'Demand_SubTheme_Score': 0.25,\n",
    "    'Investment_SubTheme_Score': 0.15,\n",
    "    'GDP_SubTheme_Score': 0.10\n",
    "}\n",
    "\n",
    "df['Growth_Theme_Score'] = sum(\n",
    "    df[col] * weight for col, weight in growth_theme_weights.items()\n",
    ").round(2)\n"
   ]
  },
  {
   "cell_type": "code",
   "execution_count": 75,
   "id": "20ca18b1-c080-4243-b8e0-7ba711185ad8",
   "metadata": {},
   "outputs": [
    {
     "name": "stdout",
     "output_type": "stream",
     "text": [
      "         Date  Growth_Theme_Score\n",
      "0  1992-04-01               68.80\n",
      "1  1992-05-01               70.34\n",
      "2  1992-06-01               59.36\n",
      "3  1992-07-01               62.28\n",
      "4  1992-08-01               55.93\n"
     ]
    }
   ],
   "source": [
    "print(df[['Date', 'Growth_Theme_Score']].head())  # or .tail() for latest\n"
   ]
  },
  {
   "cell_type": "code",
   "execution_count": 77,
   "id": "c612f537-1fbf-42c4-9222-2ef813f9c495",
   "metadata": {
    "scrolled": true
   },
   "outputs": [
    {
     "name": "stdout",
     "output_type": "stream",
     "text": [
      "         Date  Production_SubTheme_Score  Labor_SubTheme_Score  \\\n",
      "0  1992-04-01                      69.25                 67.45   \n",
      "1  1992-05-01                      58.25                 67.10   \n",
      "2  1992-06-01                      51.50                 66.05   \n",
      "3  1992-07-01                      72.75                 66.40   \n",
      "4  1992-08-01                      36.00                 66.92   \n",
      "5  1992-09-01                      58.00                 65.52   \n",
      "6  1992-10-01                      67.00                 67.97   \n",
      "7  1992-11-01                      59.50                 67.27   \n",
      "8  1992-12-01                      53.75                 68.50   \n",
      "9  1993-01-01                      59.75                 69.55   \n",
      "\n",
      "   Demand_SubTheme_Score  Investment_SubTheme_Score  GDP_SubTheme_Score  \\\n",
      "0                  69.05                      65.00               77.00   \n",
      "1                  85.20                      63.75               77.00   \n",
      "2                  52.00                      57.00               77.00   \n",
      "3                  40.70                      67.75               74.75   \n",
      "4                  49.90                      58.00               74.75   \n",
      "5                  66.35                      73.75               74.75   \n",
      "6                  17.70                      68.00               76.00   \n",
      "7                  82.20                      55.50               76.00   \n",
      "8                 100.00                      80.75               76.00   \n",
      "9                  25.35                      79.00               54.25   \n",
      "\n",
      "   Growth_Theme_Score  \n",
      "0               68.80  \n",
      "1               70.34  \n",
      "2               59.36  \n",
      "3               62.28  \n",
      "4               55.93  \n",
      "5               66.38  \n",
      "6               56.02  \n",
      "7               68.56  \n",
      "8               76.01  \n",
      "9               56.43  \n"
     ]
    }
   ],
   "source": [
    "print(df[['Date',\n",
    "          'Production_SubTheme_Score',\n",
    "          'Labor_SubTheme_Score',\n",
    "          'Demand_SubTheme_Score',\n",
    "          'Investment_SubTheme_Score',\n",
    "          'GDP_SubTheme_Score',\n",
    "          'Growth_Theme_Score']].head(10))  # prints first 10 rows\n"
   ]
  },
  {
   "cell_type": "code",
   "execution_count": 79,
   "id": "4f188c16-9084-4632-9c04-c172c23b7a97",
   "metadata": {},
   "outputs": [],
   "source": [
    "df[['Date',\n",
    "    'Production_SubTheme_Score',\n",
    "    'Labor_SubTheme_Score',\n",
    "    'Demand_SubTheme_Score',\n",
    "    'Investment_SubTheme_Score',\n",
    "    'GDP_SubTheme_Score',\n",
    "    'Growth_Theme_Score']].to_csv(\"growth_theme_output.csv\", index=False)\n"
   ]
  },
  {
   "cell_type": "code",
   "execution_count": null,
   "id": "de77288a-4047-417a-962b-b5f143990931",
   "metadata": {},
   "outputs": [],
   "source": []
  }
 ],
 "metadata": {
  "kernelspec": {
   "display_name": "Python [conda env:base] *",
   "language": "python",
   "name": "conda-base-py"
  },
  "language_info": {
   "codemirror_mode": {
    "name": "ipython",
    "version": 3
   },
   "file_extension": ".py",
   "mimetype": "text/x-python",
   "name": "python",
   "nbconvert_exporter": "python",
   "pygments_lexer": "ipython3",
   "version": "3.12.7"
  }
 },
 "nbformat": 4,
 "nbformat_minor": 5
}
