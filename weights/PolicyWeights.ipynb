{
 "cells": [
  {
   "cell_type": "code",
   "execution_count": 30,
   "id": "b16b5cf2-225c-4296-ae1d-9eb51c451669",
   "metadata": {
    "scrolled": true
   },
   "outputs": [
    {
     "name": "stdout",
     "output_type": "stream",
     "text": [
      "'Date'\n",
      "'Federal Budget Deficit (% GDP)'\n",
      "'Fed Balance Sheet MoM %'\n",
      "'Fed Funds Rate (%)'\n",
      "'Core CPI (MoM %)'\n",
      "'Real Fed Funds Rate (%)'\n",
      "'Fed Funds Rate (%).1'\n",
      "'Federal Budget Deficit (% GDP)_Label'\n",
      "'Fed Balance Sheet MoM %_Label'\n",
      "'Fed Funds Rate (%)_Label'\n",
      "'Core CPI (MoM %)_Label'\n",
      "'Real Fed Funds Rate (%)_Label'\n",
      "'Fed Funds Rate (%).1_Label'\n"
     ]
    }
   ],
   "source": [
    "import pandas as pd\n",
    "\n",
    "df = pd.read_csv(\"policy_zscores_labeled.csv\")\n",
    "\n",
    "# Show column names clearly\n",
    "for col in df.columns:\n",
    "    print(f\"'{col}'\")"
   ]
  },
  {
   "cell_type": "code",
   "execution_count": 32,
   "id": "61fbf00e-ee10-4bb1-a2c9-73b6d156e9ca",
   "metadata": {},
   "outputs": [],
   "source": [
    "df.columns = df.columns.str.strip()\n",
    "\n",
    "df.rename(columns={\n",
    "    'Fed Funds Rate (%)': 'FedFunds_Z',\n",
    "    'Real Fed Funds Rate (%)': 'RealFedFunds_Z',\n",
    "    'Fed Balance Sheet MoM %': 'BalanceSheet_Z',\n",
    "    'Federal Budget Deficit (% GDP)': 'FiscalDeficit_Z'\n",
    "}, inplace=True)\n"
   ]
  },
  {
   "cell_type": "code",
   "execution_count": 34,
   "id": "d00946f1-c5f2-4e4f-94f8-5fffef164e37",
   "metadata": {},
   "outputs": [],
   "source": [
    "def normalized_contribution(z, weight, cap=2.0):\n",
    "    z = max(min(z, cap), -cap)\n",
    "    scaled = (z + cap) / (2 * cap)\n",
    "    return scaled * weight\n"
   ]
  },
  {
   "cell_type": "code",
   "execution_count": 36,
   "id": "4a7584b4-d9d3-4102-bd89-c42e2262d85b",
   "metadata": {},
   "outputs": [],
   "source": [
    "df['PolicyRate_SubTheme_Score'] = df['FedFunds_Z'].apply(lambda z: normalized_contribution(z, 1.0)) * 100\n",
    "df['RealRate_SubTheme_Score'] = df['RealFedFunds_Z'].apply(lambda z: normalized_contribution(z, 1.0)) * 100\n",
    "df['BalanceSheet_SubTheme_Score'] = df['BalanceSheet_Z'].apply(lambda z: normalized_contribution(z, 1.0)) * 100\n",
    "df['Fiscal_SubTheme_Score'] = df['FiscalDeficit_Z'].apply(lambda z: normalized_contribution(z, 1.0)) * 100\n"
   ]
  },
  {
   "cell_type": "code",
   "execution_count": 42,
   "id": "76991e1e-2f5a-4d04-8a0d-db4be82f4758",
   "metadata": {},
   "outputs": [],
   "source": [
    "weights_policy = {\n",
    "    'PolicyRate_SubTheme_Score': 0.3,\n",
    "    'RealRate_SubTheme_Score': 0.3,\n",
    "    'BalanceSheet_SubTheme_Score': 0.2,\n",
    "    'Fiscal_SubTheme_Score': 0.2\n",
    "}\n",
    "\n",
    "df['Policy_Theme_Score'] = sum(\n",
    "    df[col] * weight for col, weight in weights_policy.items()\n",
    ").round(2)\n"
   ]
  },
  {
   "cell_type": "code",
   "execution_count": 44,
   "id": "010a21b1-ee32-40ee-8075-1e7d6ac4a5f4",
   "metadata": {},
   "outputs": [
    {
     "name": "stdout",
     "output_type": "stream",
     "text": [
      "         Date  Policy_Theme_Score\n",
      "0  2004-01-01               46.47\n",
      "1  2004-02-01               46.01\n",
      "2  2004-03-01               46.28\n",
      "3  2004-04-01               47.29\n",
      "4  2004-05-01               46.78\n"
     ]
    }
   ],
   "source": [
    "print(df[['Date', 'Policy_Theme_Score']].head())\n"
   ]
  },
  {
   "cell_type": "code",
   "execution_count": 46,
   "id": "c1a01595-4775-4b69-b5db-4d7b033a575d",
   "metadata": {},
   "outputs": [],
   "source": [
    "df[['Date',\n",
    "   'PolicyRate_SubTheme_Score',\n",
    "    'RealRate_SubTheme_Score',\n",
    "    'BalanceSheet_SubTheme_Score',\n",
    "    'Fiscal_SubTheme_Score',\n",
    "    'Policy_Theme_Score',\n",
    "]].to_csv(\"policy_theme_output.csv\", index=False)"
   ]
  },
  {
   "cell_type": "code",
   "execution_count": null,
   "id": "1a7c8bfd-543c-4791-8e29-c493c9099697",
   "metadata": {},
   "outputs": [],
   "source": []
  }
 ],
 "metadata": {
  "kernelspec": {
   "display_name": "Python [conda env:base] *",
   "language": "python",
   "name": "conda-base-py"
  },
  "language_info": {
   "codemirror_mode": {
    "name": "ipython",
    "version": 3
   },
   "file_extension": ".py",
   "mimetype": "text/x-python",
   "name": "python",
   "nbconvert_exporter": "python",
   "pygments_lexer": "ipython3",
   "version": "3.12.7"
  }
 },
 "nbformat": 4,
 "nbformat_minor": 5
}
