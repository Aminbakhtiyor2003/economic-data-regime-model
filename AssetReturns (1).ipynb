{
 "cells": [
  {
   "cell_type": "code",
   "execution_count": 70,
   "id": "d6273449-761d-4b84-acdb-3dd9343c69ae",
   "metadata": {
    "scrolled": true
   },
   "outputs": [
    {
     "name": "stdout",
     "output_type": "stream",
     "text": [
      "            Mkt-RF   SMB   HML   RMW   CMA    RF  \\\n",
      "Date                                               \n",
      "2025-04-01   -6.14 -0.37  4.27  1.26 -0.25  0.34   \n",
      "2025-03-01   -2.29 -3.28  2.85  1.64  3.60  0.33   \n",
      "2025-02-01    2.84 -0.33  1.95 -3.34 -3.10  0.37   \n",
      "2025-01-01   -3.45 -3.88 -3.19  2.02  0.85  0.37   \n",
      "2024-12-01    6.41  2.62 -0.13 -2.73 -1.40  0.40   \n",
      "\n",
      "            Emerging Markets ETF (EEM-US)  \\\n",
      "Date                                        \n",
      "2025-04-01                           1.13   \n",
      "2025-03-01                           1.15   \n",
      "2025-02-01                           2.15   \n",
      "2025-01-01                          -1.69   \n",
      "2024-12-01                          -2.68   \n",
      "\n",
      "            Investment Grade Corporate Bond ETF (LQD-US)  \\\n",
      "Date                                                       \n",
      "2025-04-01                                         -0.46   \n",
      "2025-03-01                                          2.37   \n",
      "2025-02-01                                          0.58   \n",
      "2025-01-01                                         -2.67   \n",
      "2024-12-01                                          1.79   \n",
      "\n",
      "            TIPS Bond ETF (TIP-US)  1-3 Year Treasury Bond ETF (SHY-US)  \\\n",
      "Date                                                                      \n",
      "2025-04-01                    0.68                                 0.44   \n",
      "2025-03-01                    2.16                                 0.74   \n",
      "2025-02-01                    1.37                                 0.38   \n",
      "2025-01-01                   -1.71                                 0.25   \n",
      "2024-12-01                    0.50                                 0.30   \n",
      "\n",
      "            20+ Year Treasury Bond ETF (TLT-US)  \\\n",
      "Date                                              \n",
      "2025-04-01                                -1.21   \n",
      "2025-03-01                                 5.69   \n",
      "2025-02-01                                 0.49   \n",
      "2025-01-01                                -6.38   \n",
      "2024-12-01                                 1.99   \n",
      "\n",
      "            Energy Select Sector SPDR Fund (XLE-US)  Gold Return  \\\n",
      "Date                                                               \n",
      "2025-04-01                                     3.48        10.08   \n",
      "2025-03-01                                     3.83         0.86   \n",
      "2025-02-01                                     2.31         6.97   \n",
      "2025-01-01                                    -9.58        -1.05   \n",
      "2024-12-01                                     7.83        -2.97   \n",
      "\n",
      "            Crude Oil Brent  Crude Oil WTI  Commodity Index  \n",
      "Date                                                         \n",
      "2025-04-01             3.30           7.84             2.62  \n",
      "2025-03-01            -3.05           8.63            -1.48  \n",
      "2025-02-01             3.39          -1.36             2.23  \n",
      "2025-01-01             0.57          -1.51             2.60  \n",
      "2024-12-01             1.24           2.00             0.28  \n"
     ]
    }
   ],
   "source": [
    "import pandas as pd\n",
    "\n",
    "# Load the Excel file\n",
    "df_asset_returns = pd.read_excel('Asset Returns.xlsx')  # Update path if needed\n",
    "\n",
    "# Convert the 'Date' column to datetime format\n",
    "df_asset_returns['Date'] = pd.to_datetime(df_asset_returns['Date'])\n",
    "\n",
    "# Shift dates forward by 1 day\n",
    "df_asset_returns['Date'] = df_asset_returns['Date'] + pd.Timedelta(days=1)\n",
    "\n",
    "# Set 'Date' as index\n",
    "df_asset_returns = df_asset_returns.set_index('Date')\n",
    "\n",
    "# Round all numeric columns to 2 decimal places\n",
    "df_asset_returns = df_asset_returns.round(2)\n",
    "\n",
    "# View result\n",
    "print(df_asset_returns.head())\n",
    "\n"
   ]
  },
  {
   "cell_type": "code",
   "execution_count": 78,
   "id": "a6c5623a-6f7a-412e-803e-ae2e8f78a8c3",
   "metadata": {},
   "outputs": [],
   "source": [
    "df_asset_returns.rename(columns={\n",
    "    'Date': 'Date',\n",
    "    'Mkt-RF': 'MarketExRF',\n",
    "    'SMB': 'Size',\n",
    "    'HML': 'Value',\n",
    "    'RMW': 'Profitability',\n",
    "    'CMA': 'Investment',\n",
    "    'RF': 'RiskFreeRate',\n",
    "    'Emerging Markets ETF (EEM-US)': 'EEM',\n",
    "    'Investment Grade Corporate Bond ETF (LQD-US)': 'LQD',\n",
    "    'TIPS Bond ETF (TIP-US)': 'TIP',\n",
    "    '1-3 Year Treasury Bond ETF (SHY-US)': 'SHY',\n",
    "    '20+ Year Treasury Bond ETF (TLT-US)': 'TLT',\n",
    "    'Energy Select Sector SPDR Fund (XLE-US)': 'XLE',\n",
    "    'Gold Return': 'Gold',\n",
    "    'Crude Oil Brent': 'Brent',\n",
    "    'Crude Oil WTI': 'WTI',\n",
    "    'Commodity Index': 'Commodities'\n",
    "}, inplace=True)\n"
   ]
  },
  {
   "cell_type": "code",
   "execution_count": 80,
   "id": "10d9fb5e-4fa8-496b-9375-9595db07655a",
   "metadata": {},
   "outputs": [
    {
     "name": "stdout",
     "output_type": "stream",
     "text": [
      "Index(['Date', 'MarketExRF', 'Size', 'Value', 'Profitability', 'Investment',\n",
      "       'RiskFreeRate', 'EEM', 'LQD', 'TIP', 'SHY', 'TLT', 'XLE', 'Gold',\n",
      "       'Brent', 'WTI', 'Commodities'],\n",
      "      dtype='object')\n"
     ]
    }
   ],
   "source": [
    "print(df_asset_returns.columns)\n"
   ]
  },
  {
   "cell_type": "code",
   "execution_count": 82,
   "id": "83bb6149-e4c8-4fc4-93fa-751ccfefafcf",
   "metadata": {},
   "outputs": [],
   "source": [
    "df_asset_returns = df_asset_returns.reset_index()\n"
   ]
  },
  {
   "cell_type": "code",
   "execution_count": 65,
   "id": "c259d21b-042b-4ba9-b8f3-3ee0b5a83efa",
   "metadata": {},
   "outputs": [
    {
     "name": "stdout",
     "output_type": "stream",
     "text": [
      "Index(['Date', 'MarketExRF', 'Size', 'Value', 'Profitability', 'Investment',\n",
      "       'RiskFreeRate', 'EEM', 'LQD', 'TIP', 'SHY', 'TLT', 'XLE', 'Gold',\n",
      "       'Brent', 'WTI', 'Commodities'],\n",
      "      dtype='object')\n"
     ]
    }
   ],
   "source": [
    "print(df_asset_returns.columns)\n"
   ]
  },
  {
   "cell_type": "code",
   "execution_count": 84,
   "id": "1d621c24-ec7a-48c9-b3a2-82c9d8cb4016",
   "metadata": {},
   "outputs": [],
   "source": [
    "df_asset_returns.to_csv(\"asset_returns.csv\", index=False)"
   ]
  },
  {
   "cell_type": "code",
   "execution_count": 104,
   "id": "b95357d7-d0ad-4523-b916-bbbb4217a3ff",
   "metadata": {
    "jupyter": {
     "source_hidden": true
    },
    "scrolled": true
   },
   "outputs": [
    {
     "name": "stdout",
     "output_type": "stream",
     "text": [
      "['Date', 'Production_SubTheme_Score', 'Labor_SubTheme_Score', 'Demand_SubTheme_Score', 'Investment_SubTheme_Score', 'GDP_SubTheme_Score', 'Growth_Theme_Score', 'Headline_Inflation_SubTheme_Score', 'Core_Inflation_SubTheme_Score', 'Cost_Pressures_SubTheme_Score', 'Inflation_Expectations_SubTheme_Score', 'Inflation_Theme_Score', 'PolicyRate_SubTheme_Score', 'RealRate_SubTheme_Score', 'BalanceSheet_SubTheme_Score', 'Fiscal_SubTheme_Score', 'Policy_Theme_Score', 'MoneySupply_SubTheme_Score', 'Credit_SubTheme_Score', 'Financial_Tightness_SubTheme_Score', 'YieldCurve_SubTheme_Score', 'Liquidity_Theme_Score', 'Growth_Label', 'Inflation_Label', 'Policy_Label', 'Liquidity_Label', 'index', 'MarketExRF', 'Size', 'Value', 'Profitability', 'Investment', 'RiskFreeRate', 'EEM', 'LQD', 'TIP', 'SHY', 'TLT', 'XLE', 'Gold', 'Brent', 'WTI', 'Commodities']\n",
      "        Date  Production_SubTheme_Score  Labor_SubTheme_Score  \\\n",
      "0 2004-03-01                      40.25                 69.20   \n",
      "1 2004-04-01                      59.75                 68.68   \n",
      "2 2004-05-01                      68.50                 68.85   \n",
      "3 2004-06-01                      30.75                 66.22   \n",
      "4 2004-07-01                      68.50                 65.70   \n",
      "\n",
      "   Demand_SubTheme_Score  Investment_SubTheme_Score       Date  MarketExRF  \\\n",
      "0                  83.60                      94.25 2004-03-01        1.52   \n",
      "1                  23.20                      23.25 2004-04-01       -1.18   \n",
      "2                  65.05                      93.50 2004-05-01       -2.20   \n",
      "3                  48.45                      18.50 2004-06-01        1.27   \n",
      "4                  45.25                      78.50 2004-07-01        2.04   \n",
      "\n",
      "   Size  Value  \n",
      "0 -0.15   0.91  \n",
      "1  2.43   0.40  \n",
      "2 -1.98  -2.85  \n",
      "3 -0.18   0.52  \n",
      "4  1.91   1.30  \n"
     ]
    }
   ],
   "source": [
    "import pandas as pd\n",
    "\n",
    "# Load your macro fingerprint file\n",
    "df_macro = pd.read_csv('macro_fingerprint_summary.csv')\n",
    "df_macro['Date'] = pd.to_datetime(df_macro['Date'])\n",
    "\n",
    "# Load your asset + factor return file\n",
    "df_returns = pd.read_csv('asset_returns.csv')\n",
    "df_returns['Date'] = pd.to_datetime(df_returns['Date'])\n",
    "\n",
    "# Merge on 'Date'\n",
    "df_merged = df_macro.merge(df_returns, on='Date', how='inner')\n",
    "\n",
    "# View columns\n",
    "print(df_merged.columns.tolist())\n",
    "\n",
    "# View a sample of the merged dataset\n",
    "print(df_merged[['Date'] + df_macro.columns[1:5].tolist() + df_returns.columns[1:5].tolist()].head())\n"
   ]
  },
  {
   "cell_type": "code",
   "execution_count": 108,
   "id": "ba133b58-c7fa-4a01-89bc-db6047ac069b",
   "metadata": {
    "scrolled": true
   },
   "outputs": [
    {
     "name": "stdout",
     "output_type": "stream",
     "text": [
      "        Date  Production_SubTheme_Score  Labor_SubTheme_Score  \\\n",
      "0 2004-03-01                      40.25                 69.20   \n",
      "1 2004-04-01                      59.75                 68.68   \n",
      "2 2004-05-01                      68.50                 68.85   \n",
      "3 2004-06-01                      30.75                 66.22   \n",
      "4 2004-07-01                      68.50                 65.70   \n",
      "\n",
      "   Demand_SubTheme_Score  Investment_SubTheme_Score  GDP_SubTheme_Score  \\\n",
      "0                  83.60                      94.25               64.25   \n",
      "1                  23.20                      23.25               69.25   \n",
      "2                  65.05                      93.50               69.25   \n",
      "3                  48.45                      18.50               69.25   \n",
      "4                  45.25                      78.50               73.75   \n",
      "\n",
      "   Growth_Theme_Score  Headline_Inflation_SubTheme_Score  \\\n",
      "0               70.27                          48.121188   \n",
      "1               48.77                          43.429016   \n",
      "2               71.57                          68.766746   \n",
      "3               47.83                          63.136139   \n",
      "4               63.87                          38.736844   \n",
      "\n",
      "   Core_Inflation_SubTheme_Score  Cost_Pressures_SubTheme_Score  ...   EEM  \\\n",
      "0                      64.395031                      62.362764  ...  3.95   \n",
      "1                      44.389590                      74.364961  ...  0.55   \n",
      "2                      35.296208                      79.018873  ... -9.80   \n",
      "3                      44.389590                      51.830225  ...  1.17   \n",
      "4                      26.202825                      48.645968  ...  0.92   \n",
      "\n",
      "    LQD   TIP   SHY   TLT   XLE  Gold  Brent    WTI  Commodities  \n",
      "0  1.51  2.15  0.48  2.28  5.25 -1.44  11.55   1.72         7.14  \n",
      "1  0.99  1.66  0.28  1.41 -0.62  7.80  -1.97  -6.35         1.24  \n",
      "2 -3.89 -4.82 -1.06 -6.23  1.70 -9.43   9.10 -16.72         2.62  \n",
      "3 -0.52  2.02 -0.00 -0.26 -0.30  1.81   5.02 -14.49         4.11  \n",
      "4  0.13 -0.14 -0.02  1.06  6.23 -0.36 -10.22   2.81        -5.00  \n",
      "\n",
      "[5 rows x 42 columns]\n"
     ]
    }
   ],
   "source": [
    "# Drop the unnecessary 'index' column if it exists\n",
    "if 'index' in df_merged.columns:\n",
    "    df_merged = df_merged.drop(columns='index')\n",
    "\n",
    "# If two Date columns exist, keep one and remove the duplicate\n",
    "df_merged = df_merged.loc[:, ~df_merged.columns.duplicated()]\n",
    "\n",
    "# Now confirm the cleaned DataFrame\n",
    "\n",
    "print(df_merged.head())\n"
   ]
  },
  {
   "cell_type": "code",
   "execution_count": 113,
   "id": "a4bc84df-0b3f-4c14-8c58-76ee03a2d470",
   "metadata": {},
   "outputs": [
    {
     "name": "stdout",
     "output_type": "stream",
     "text": [
      "        Date Growth_Label Inflation_Label Policy_Label Liquidity_Label  \\\n",
      "0 2004-03-01     Moderate          Stable        Loose        Illiquid   \n",
      "1 2004-04-01         Weak          Stable        Loose        Illiquid   \n",
      "2 2004-05-01     Moderate          Stable        Loose        Illiquid   \n",
      "3 2004-06-01         Weak          Stable        Loose        Illiquid   \n",
      "4 2004-07-01      Neutral         Falling        Loose        Illiquid   \n",
      "\n",
      "   MarketExRF  Size  Value  Profitability  Investment  ...   EEM   LQD   TIP  \\\n",
      "0        1.52 -0.15   0.91           1.68       -1.10  ...  3.95  1.51  2.15   \n",
      "1       -1.18  2.43   0.40           1.39       -0.79  ...  0.55  0.99  1.66   \n",
      "2       -2.20 -1.98  -2.85           4.03       -1.49  ... -9.80 -3.89 -4.82   \n",
      "3        1.27 -0.18   0.52          -1.66        0.35  ...  1.17 -0.52  2.02   \n",
      "4        2.04  1.91   1.30           0.60        0.18  ...  0.92  0.13 -0.14   \n",
      "\n",
      "    SHY   TLT   XLE  Gold  Brent    WTI  Commodities  \n",
      "0  0.48  2.28  5.25 -1.44  11.55   1.72         7.14  \n",
      "1  0.28  1.41 -0.62  7.80  -1.97  -6.35         1.24  \n",
      "2 -1.06 -6.23  1.70 -9.43   9.10 -16.72         2.62  \n",
      "3 -0.00 -0.26 -0.30  1.81   5.02 -14.49         4.11  \n",
      "4 -0.02  1.06  6.23 -0.36 -10.22   2.81        -5.00  \n",
      "\n",
      "[5 rows x 21 columns]\n"
     ]
    }
   ],
   "source": [
    "import pandas as pd\n",
    "\n",
    "# Assuming df_merged is your current full DataFrame\n",
    "\n",
    "# Columns you want to keep\n",
    "columns_to_keep = [\n",
    "    'Date',\n",
    "    'Growth_Label', 'Inflation_Label', 'Policy_Label', 'Liquidity_Label',\n",
    "    'MarketExRF', 'Size', 'Value', 'Profitability', 'Investment', 'RiskFreeRate',\n",
    "    'EEM', 'LQD', 'TIP', 'SHY', 'TLT', 'XLE', 'Gold', 'Brent', 'WTI', 'Commodities'\n",
    "]\n",
    "\n",
    "# Filter the DataFrame\n",
    "df_cleaned = df_merged[columns_to_keep]\n",
    "\n",
    "# Save to CSV\n",
    "df_cleaned.to_csv('macro_labels_asset_returns.csv', index=False)\n",
    "\n",
    "# View a preview\n",
    "print(df_cleaned.head())\n"
   ]
  },
  {
   "cell_type": "code",
   "execution_count": 121,
   "id": "0c6565a8-e152-4184-b187-f4816c49b0eb",
   "metadata": {},
   "outputs": [],
   "source": [
    "df_cleaned.to_csv(\"cleaned_returns.csv\", index=False)"
   ]
  },
  {
   "cell_type": "code",
   "execution_count": null,
   "id": "10f3da0e-0b4e-4820-9c87-c2de977a184a",
   "metadata": {},
   "outputs": [],
   "source": []
  }
 ],
 "metadata": {
  "kernelspec": {
   "display_name": "Python [conda env:base] *",
   "language": "python",
   "name": "conda-base-py"
  },
  "language_info": {
   "codemirror_mode": {
    "name": "ipython",
    "version": 3
   },
   "file_extension": ".py",
   "mimetype": "text/x-python",
   "name": "python",
   "nbconvert_exporter": "python",
   "pygments_lexer": "ipython3",
   "version": "3.12.7"
  }
 },
 "nbformat": 4,
 "nbformat_minor": 5
}
