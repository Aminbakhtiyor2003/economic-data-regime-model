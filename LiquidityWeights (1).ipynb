{
 "cells": [
  {
   "cell_type": "code",
   "execution_count": 44,
   "id": "3127cc51-40bc-4dae-bdcb-7fe341091663",
   "metadata": {
    "scrolled": true
   },
   "outputs": [
    {
     "name": "stdout",
     "output_type": "stream",
     "text": [
      "'Date'\n",
      "'M2 MoM %'\n",
      "'NFCI (Financial Conditions Index)'\n",
      "'10Y Treasury Yield MoM %'\n",
      "'3-Month T-Bill Rate (%)'\n",
      "'10Y 3M Treasury Spread'\n",
      "'TED Spread (bps)'\n",
      "'M2 MoM %_Label'\n",
      "'NFCI (Financial Conditions Index)_Label'\n",
      "'10Y Treasury Yield MoM %_Label'\n",
      "'3-Month T-Bill Rate (%)_Label'\n",
      "'10Y 3M Treasury Spread_Label'\n",
      "'TED Spread (bps)_Label'\n"
     ]
    }
   ],
   "source": [
    "import pandas as pd\n",
    "\n",
    "df = pd.read_csv(\"liquidity_zscores_labeled.csv\")\n",
    "\n",
    "# Show column names clearly\n",
    "for col in df.columns:\n",
    "    print(f\"'{col}'\")"
   ]
  },
  {
   "cell_type": "code",
   "execution_count": 46,
   "id": "70a57547-97c2-4693-b2c8-e21d1e4d357c",
   "metadata": {},
   "outputs": [],
   "source": [
    "df.columns = df.columns.str.strip()\n",
    "\n",
    "df.rename(columns={\n",
    "    'M2 MoM %': 'M2_MoM_Z',\n",
    "    'NFCI (Financial Conditions Index)': 'NFCI_Z',\n",
    "    '10Y 3M Treasury Spread': 'YieldCurve_10Y3M_Z',\n",
    "    'TED Spread (bps)': 'TED_Spread_Z'\n",
    "}, inplace=True)\n"
   ]
  },
  {
   "cell_type": "code",
   "execution_count": 47,
   "id": "7d79ffcc-3d03-4cae-a76e-cc4569d1ae17",
   "metadata": {},
   "outputs": [],
   "source": [
    "def normalized_contribution(z, weight, cap=2.0):\n",
    "    z = max(min(z, cap), -cap)        # Cap between -2 and +2\n",
    "    scaled = (z + cap) / (2 * cap)    # Normalize to 0–1 scale\n",
    "    return scaled * weight\n"
   ]
  },
  {
   "cell_type": "code",
   "execution_count": 48,
   "id": "575b0987-5e35-42e2-a4ea-c67973ba968b",
   "metadata": {},
   "outputs": [],
   "source": [
    "df['MoneySupply_SubTheme_Score'] = df['M2_MoM_Z'].apply(lambda z: normalized_contribution(z, 1.0)) * 100\n",
    "\n",
    "df['Credit_SubTheme_Score'] = df['TED_Spread_Z'].apply(lambda z: normalized_contribution(z, 1.0)) * 100\n",
    "\n",
    "df['Financial_Tightness_SubTheme_Score'] = df['NFCI_Z'].apply(lambda z: normalized_contribution(z, 1.0)) * 100\n",
    "\n",
    "df['YieldCurve_SubTheme_Score'] = df['YieldCurve_10Y3M_Z'].apply(lambda z: normalized_contribution(z, 1.0)) * 100\n"
   ]
  },
  {
   "cell_type": "code",
   "execution_count": 49,
   "id": "a7a75602-a3ff-40a4-8015-7e3cda4fd01d",
   "metadata": {},
   "outputs": [],
   "source": [
    "weights_liquidity = {\n",
    "    'MoneySupply_SubTheme_Score': 0.3,\n",
    "    'Credit_SubTheme_Score': 0.25,\n",
    "    'Financial_Tightness_SubTheme_Score': 0.25,\n",
    "    'YieldCurve_SubTheme_Score': 0.2\n",
    "}\n",
    "\n",
    "df['Liquidity_Theme_Score'] = sum(\n",
    "    df[col] * weight for col, weight in weights_liquidity.items()\n",
    ").round(2)\n"
   ]
  },
  {
   "cell_type": "code",
   "execution_count": 50,
   "id": "16bd95da-1baf-4be9-af21-8b3413fd2cc3",
   "metadata": {
    "scrolled": true
   },
   "outputs": [
    {
     "name": "stdout",
     "output_type": "stream",
     "text": [
      "         Date  Liquidity_Theme_Score\n",
      "0  1986-02-01                  59.55\n",
      "1  1986-03-01                  54.20\n",
      "2  1986-04-01                  58.68\n",
      "3  1986-05-01                  54.39\n",
      "4  1986-06-01                  55.42\n"
     ]
    },
    {
     "data": {
      "text/plain": [
       "<function next>"
      ]
     },
     "execution_count": 50,
     "metadata": {},
     "output_type": "execute_result"
    }
   ],
   "source": [
    "print(df[['Date', 'Liquidity_Theme_Score']].head())\n",
    "next "
   ]
  },
  {
   "cell_type": "code",
   "execution_count": 51,
   "id": "27dc9150-3ca4-4f44-9590-ed150384b6b7",
   "metadata": {},
   "outputs": [],
   "source": [
    "df[['Date',\n",
    "    'MoneySupply_SubTheme_Score',\n",
    "    'Credit_SubTheme_Score',\n",
    "    'Financial_Tightness_SubTheme_Score',\n",
    "    'YieldCurve_SubTheme_Score',\n",
    "    'Liquidity_Theme_Score',\n",
    "]].to_csv(\"liquidity_theme_output.csv\", index=False)"
   ]
  },
  {
   "cell_type": "code",
   "execution_count": null,
   "id": "baa2b339-cb32-4b36-8506-a449cfe3d277",
   "metadata": {},
   "outputs": [],
   "source": []
  },
  {
   "cell_type": "code",
   "execution_count": null,
   "id": "724e07e8-ec98-49f6-9a7a-08e121f35fa2",
   "metadata": {},
   "outputs": [],
   "source": []
  },
  {
   "cell_type": "code",
   "execution_count": null,
   "id": "e48f4f53-45c5-42c0-a6d1-46fbbdbe4acd",
   "metadata": {},
   "outputs": [],
   "source": []
  },
  {
   "cell_type": "code",
   "execution_count": null,
   "id": "8a480932-bcea-4396-8e8f-2b743eec743a",
   "metadata": {},
   "outputs": [],
   "source": []
  },
  {
   "cell_type": "code",
   "execution_count": null,
   "id": "8de58760-f186-4687-b8c7-77ec1881a5aa",
   "metadata": {},
   "outputs": [],
   "source": []
  }
 ],
 "metadata": {
  "kernelspec": {
   "display_name": "Python [conda env:base] *",
   "language": "python",
   "name": "conda-base-py"
  },
  "language_info": {
   "codemirror_mode": {
    "name": "ipython",
    "version": 3
   },
   "file_extension": ".py",
   "mimetype": "text/x-python",
   "name": "python",
   "nbconvert_exporter": "python",
   "pygments_lexer": "ipython3",
   "version": "3.12.7"
  }
 },
 "nbformat": 4,
 "nbformat_minor": 5
}
