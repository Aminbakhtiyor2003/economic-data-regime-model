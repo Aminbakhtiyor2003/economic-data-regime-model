{
 "cells": [
  {
   "cell_type": "code",
   "execution_count": null,
   "id": "a2050460-4d70-4bc9-98e5-e171ad6ead12",
   "metadata": {},
   "outputs": [],
   "source": [
    "import requests\n",
    "import pandas as pd\n",
    "from fredapi import Fred\n",
    "\n",
    "fred = Fred(api_key = 'Your API key')\n",
    "api_key = ('Your API key')\n",
    "\n",
    "start_date = '1970-01-01'\n",
    "end_date = '2025-04-23'"
   ]
  },
  {
   "cell_type": "code",
   "execution_count": null,
   "id": "1e52b6a2-e67c-4e4f-9c13-0f0084af8d68",
   "metadata": {},
   "outputs": [
    {
     "name": "stdout",
     "output_type": "stream",
     "text": [
      "            Fed Funds Rate (%)\n",
      "Date                          \n",
      "1970-01-01                8.98\n",
      "1970-02-01                8.98\n",
      "1970-03-01                7.76\n",
      "1970-04-01                8.10\n",
      "1970-05-01                7.95\n",
      "1970-06-01                7.61\n",
      "1970-07-01                7.21\n",
      "1970-08-01                6.62\n",
      "1970-09-01                6.29\n",
      "1970-10-01                6.20\n"
     ]
    }
   ],
   "source": [
    "# Monetary Policy - Effective Federal Funds Rate\n",
    "series_id_FEDFUNDS = 'FEDFUNDS'\n",
    "units_FEDFUNDS = 'lin'        # No transformation (level data)\n",
    "frequency_FEDFUNDS = 'm'      # Monthly \n",
    "\n",
    "\n",
    "# URL and parameters\n",
    "url_FEDFUNDS = \"https://api.stlouisfed.org/fred/series/observations\"\n",
    "params_FEDFUNDS = {\n",
    "    'series_id': series_id_FEDFUNDS,\n",
    "    'api_key': api_key,\n",
    "    'file_type': 'json',\n",
    "    'units': units_FEDFUNDS,\n",
    "    'frequency': frequency_FEDFUNDS,\n",
    "    'observation_start': start_date,\n",
    "    'observation_end': end_date\n",
    "}\n",
    "\n",
    "# Make the request\n",
    "response_FEDFUNDS = requests.get(url_FEDFUNDS, params=params_FEDFUNDS)\n",
    "\n",
    "# Format response\n",
    "if response_FEDFUNDS.status_code == 200:\n",
    "    data_FEDFUNDS = response_FEDFUNDS.json()\n",
    "    df_FEDFUNDS = pd.DataFrame(data_FEDFUNDS['observations'])\n",
    "\n",
    "    df_FEDFUNDS['date'] = pd.to_datetime(df_FEDFUNDS['date'])\n",
    "    df_FEDFUNDS['value'] = pd.to_numeric(df_FEDFUNDS['value'], errors='coerce')\n",
    "    df_FEDFUNDS = df_FEDFUNDS[['date', 'value']].set_index('date')\n",
    "    df_FEDFUNDS = df_FEDFUNDS.dropna()\n",
    "\n",
    "    df_FEDFUNDS.rename(columns={'value': 'Fed Funds Rate (%)'}, inplace=True)\n",
    "    df_FEDFUNDS.index.name = \"Date\"\n",
    "\n",
    "    print(df_FEDFUNDS.head(10))\n",
    "\n",
    "else:\n",
    "    print('Failed to retrieve Fed Funds data.')\n",
    "    print('Status Code:', response_FEDFUNDS.status_code)\n",
    "    print(response_FEDFUNDS.text)\n"
   ]
  },
  {
   "cell_type": "code",
   "execution_count": null,
   "id": "fdd27e7d-52b7-440b-914d-d09a2379ab19",
   "metadata": {},
   "outputs": [
    {
     "name": "stdout",
     "output_type": "stream",
     "text": [
      "            Core CPI (MoM %)\n",
      "Date                        \n",
      "1970-01-01           0.50761\n",
      "1970-02-01           0.50505\n",
      "1970-03-01           0.75377\n",
      "1970-04-01           0.74813\n",
      "1970-05-01           0.24752\n",
      "1970-06-01           0.74074\n",
      "1970-07-01           0.24510\n",
      "1970-08-01           0.48900\n",
      "1970-09-01           0.48662\n",
      "1970-10-01           0.48426\n"
     ]
    }
   ],
   "source": [
    "# Core CPI - Core Consumer Price Index (YoY % or desired units)\n",
    "series_id_core_cpi = 'CPILFESL'\n",
    "units_core_cpi = 'pch'        # Percent change from previous period (you can adjust to 'pc1' for YoY if needed)\n",
    "frequency_core_cpi = 'm'      # Monthly \n",
    "start_date_core_cpi = '1970-01-01'\n",
    "end_date_core_cpi = '2025-04-23'\n",
    "\n",
    "# URL and parameters\n",
    "url_core_cpi = \"https://api.stlouisfed.org/fred/series/observations\"\n",
    "params_core_cpi = {\n",
    "    'series_id': series_id_core_cpi,\n",
    "    'api_key': api_key,\n",
    "    'file_type': 'json',\n",
    "    'units': units_core_cpi,\n",
    "    'frequency': frequency_core_cpi,\n",
    "    'observation_start': start_date,\n",
    "    'observation_end': end_date\n",
    "}\n",
    "\n",
    "# Make the request\n",
    "response_core_cpi = requests.get(url_core_cpi, params=params_core_cpi)\n",
    "\n",
    "# Format response\n",
    "if response_core_cpi.status_code == 200:\n",
    "    data_core_cpi = response_core_cpi.json()\n",
    "    df_core_cpi = pd.DataFrame(data_core_cpi['observations'])\n",
    "\n",
    "    df_core_cpi['date'] = pd.to_datetime(df_core_cpi['date'])\n",
    "    df_core_cpi['value'] = pd.to_numeric(df_core_cpi['value'], errors='coerce')\n",
    "    df_core_cpi = df_core_cpi[['date', 'value']].set_index('date')\n",
    "    df_core_cpi = df_core_cpi.dropna()\n",
    "\n",
    "    df_core_cpi.rename(columns={'value': 'Core CPI (MoM %)'}, inplace=True)\n",
    "    df_core_cpi.index.name = \"Date\"\n",
    "\n",
    "    print(df_core_cpi.head(10))\n",
    "\n",
    "else:\n",
    "    print('Failed to retrieve Core CPI data.')\n",
    "    print('Status Code:', response_core_cpi.status_code)\n",
    "    print(response_core_cpi.text)\n"
   ]
  },
  {
   "cell_type": "code",
   "execution_count": 10,
   "id": "1474f844-5a21-41f8-86d5-cc96a656bc35",
   "metadata": {},
   "outputs": [
    {
     "name": "stdout",
     "output_type": "stream",
     "text": [
      "            Fed Funds Rate (%)  Core CPI (MoM %)  Real Fed Funds Rate (%)\n",
      "Date                                                                     \n",
      "1970-01-01                8.98              0.51                     8.47\n",
      "1970-02-01                8.98              0.51                     8.47\n",
      "1970-03-01                7.76              0.75                     7.01\n",
      "1970-04-01                8.10              0.75                     7.35\n",
      "1970-05-01                7.95              0.25                     7.70\n",
      "1970-06-01                7.61              0.74                     6.87\n",
      "1970-07-01                7.21              0.25                     6.96\n",
      "1970-08-01                6.62              0.49                     6.13\n",
      "1970-09-01                6.29              0.49                     5.80\n",
      "1970-10-01                6.20              0.48                     5.72\n"
     ]
    }
   ],
   "source": [
    "# Merge the two dataframes on the Date index\n",
    "df_real_rate = df_FEDFUNDS.merge(df_core_cpi, how='inner', left_index=True, right_index=True)\n",
    "\n",
    "# Subtract Core CPI from Fed Funds to compute the real rate\n",
    "df_real_rate['Real Fed Funds Rate (%)'] = df_real_rate['Fed Funds Rate (%)'] - df_real_rate['Core CPI (MoM %)']\n",
    "\n",
    "# Optional: round for readability\n",
    "df_real_rate = df_real_rate.round(2)\n",
    "\n",
    "# Preview result\n",
    "print(df_real_rate.head(10))\n"
   ]
  },
  {
   "cell_type": "code",
   "execution_count": null,
   "id": "930e807e-3995-4224-beb5-406aeecc7ba9",
   "metadata": {},
   "outputs": [
    {
     "name": "stdout",
     "output_type": "stream",
     "text": [
      "            Fed Balance Sheet MoM %\n",
      "Date                               \n",
      "2003-02-01                 -0.46810\n",
      "2003-03-01                  0.32236\n",
      "2003-04-01                  1.83447\n",
      "2003-05-01                  0.19427\n",
      "2003-06-01                  0.04791\n",
      "2003-07-01                  0.39859\n",
      "2003-08-01                 -0.19412\n",
      "2003-09-01                  0.40397\n",
      "2003-10-01                  0.51959\n",
      "2003-11-01                  0.09810\n"
     ]
    }
   ],
   "source": [
    "# Policy - Fed Balance Sheet (Total Assets)\n",
    "series_id_WALCL = 'WALCL'\n",
    "units_WALCL = 'pch'        # Percent change (Month-over-Month %)\n",
    "frequency_WALCL = 'm'      # Monthly \n",
    "\n",
    "\n",
    "# URL and parameters\n",
    "url_WALCL = \"https://api.stlouisfed.org/fred/series/observations\"\n",
    "params_WALCL = {\n",
    "    'series_id': series_id_WALCL,\n",
    "    'api_key': api_key,\n",
    "    'file_type': 'json',\n",
    "    'units': units_WALCL,\n",
    "    'frequency': frequency_WALCL,\n",
    "    'observation_start': start_date,\n",
    "    'observation_end': end_date\n",
    "\n",
    "\n",
    "# Make the request\n",
    "response_WALCL = requests.get(url_WALCL, params=params_WALCL)\n",
    "\n",
    "# Format response\n",
    "if response_WALCL.status_code == 200:\n",
    "    data_WALCL = response_WALCL.json()\n",
    "    df_WALCL = pd.DataFrame(data_WALCL['observations'])\n",
    "\n",
    "    df_WALCL['date'] = pd.to_datetime(df_WALCL['date'])\n",
    "    df_WALCL['value'] = pd.to_numeric(df_WALCL['value'], errors='coerce')\n",
    "    df_WALCL = df_WALCL[['date', 'value']].set_index('date')\n",
    "    df_WALCL = df_WALCL.dropna()\n",
    "\n",
    "    df_WALCL.rename(columns={'value': 'Fed Balance Sheet MoM %'}, inplace=True)\n",
    "    df_WALCL.index.name = \"Date\"\n",
    "\n",
    "    print(df_WALCL.head(10))\n",
    "\n",
    "else:\n",
    "    print('Failed to retrieve WALCL data.')\n",
    "    print('Status Code:', response_WALCL.status_code)\n",
    "    print(response_WALCL.text)\n"
   ]
  },
  {
   "cell_type": "code",
   "execution_count": null,
   "id": "262aa4c2-3866-4f5f-a441-889a2a413ab4",
   "metadata": {
    "scrolled": true
   },
   "outputs": [
    {
     "name": "stdout",
     "output_type": "stream",
     "text": [
      "            Federal Budget Deficit (% GDP)\n",
      "Date                                      \n",
      "1970-01-01                        -0.26479\n",
      "1971-01-01                        -1.97734\n",
      "1972-01-01                        -1.82729\n",
      "1973-01-01                        -1.04590\n",
      "1974-01-01                        -0.39702\n",
      "1975-01-01                        -3.15994\n",
      "1976-01-01                        -3.93571\n",
      "1977-01-01                        -2.57750\n",
      "1978-01-01                        -2.51680\n",
      "1979-01-01                        -1.55009\n"
     ]
    }
   ],
   "source": [
    "# Fiscal Policy - Federal Budget Deficit as % of GDP\n",
    "series_id_fiscal = 'FYFSGDA188S'\n",
    "units_fiscal = 'lin'        # Level data (not percent change)\n",
    "frequency_fiscal = 'a'      # Quarterly\n",
    "\n",
    "\n",
    "# URL and parameters\n",
    "url_fiscal = \"https://api.stlouisfed.org/fred/series/observations\"\n",
    "params_fiscal = {\n",
    "    'series_id': series_id_fiscal,\n",
    "    'api_key': api_key,\n",
    "    'file_type': 'json',\n",
    "    'units': units_fiscal,\n",
    "    'frequency': frequency_fiscal,\n",
    "    'observation_start': start_date,\n",
    "    'observation_end': end_date\n",
    "}\n",
    "\n",
    "# Make the request\n",
    "response_fiscal = requests.get(url_fiscal, params=params_fiscal)\n",
    "\n",
    "# Format response\n",
    "if response_fiscal.status_code == 200:\n",
    "    data_fiscal = response_fiscal.json()\n",
    "    df_fiscal = pd.DataFrame(data_fiscal['observations'])\n",
    "\n",
    "    df_fiscal['date'] = pd.to_datetime(df_fiscal['date'])\n",
    "    df_fiscal['value'] = pd.to_numeric(df_fiscal['value'], errors='coerce')\n",
    "    df_fiscal = df_fiscal[['date', 'value']].set_index('date')\n",
    "    df_fiscal = df_fiscal.dropna()\n",
    "\n",
    "    df_fiscal.rename(columns={'value': 'Federal Budget Deficit (% GDP)'}, inplace=True)\n",
    "    df_fiscal.index.name = \"Date\"\n",
    "\n",
    "    print(df_fiscal.head(10))\n",
    "\n",
    "else:\n",
    "    print('Failed to retrieve fiscal data.')\n",
    "    print('Status Code:', response_fiscal.status_code)\n",
    "    print(response_fiscal.text)\n"
   ]
  },
  {
   "cell_type": "code",
   "execution_count": 19,
   "id": "72f93fe8-2623-4a72-8eb9-c97d1f76dc9e",
   "metadata": {
    "scrolled": true
   },
   "outputs": [
    {
     "name": "stdout",
     "output_type": "stream",
     "text": [
      "        Date  Federal Budget Deficit (% GDP)  Fed Balance Sheet MoM %  \\\n",
      "0 2004-01-01                           -3.38                     0.02   \n",
      "1 2004-02-01                           -3.38                    -0.83   \n",
      "2 2004-03-01                           -3.38                     0.25   \n",
      "3 2004-04-01                           -3.38                     0.88   \n",
      "4 2004-05-01                           -3.38                     0.10   \n",
      "\n",
      "   Fed Funds Rate (%)  Core CPI (MoM %)  Real Fed Funds Rate (%)  \\\n",
      "0                1.00              0.21                     0.79   \n",
      "1                1.01              0.15                     0.86   \n",
      "2                1.00              0.31                     0.69   \n",
      "3                1.00              0.20                     0.80   \n",
      "4                1.00              0.15                     0.85   \n",
      "\n",
      "   Fed Funds Rate (%)  \n",
      "0                1.00  \n",
      "1                1.01  \n",
      "2                1.00  \n",
      "3                1.00  \n",
      "4                1.00  \n"
     ]
    }
   ],
   "source": [
    "# ---- STEP 1: Concatenate all Growth Theme indicators ----\n",
    "df_policy_data = pd.concat([\n",
    "    df_fiscal,\n",
    "    df_WALCL,\n",
    "    df_real_rate,\n",
    "    df_FEDFUNDS,\n",
    "], axis=1)\n",
    "\n",
    "# ---- STEP 2: Drop rows with missing values (e.g., incomplete early dates) ----\n",
    "first_valid_date = df_policy_data.dropna().index.min()\n",
    "df_policy_data = df_policy_data.loc[first_valid_date:]\n",
    "\n",
    "# ---- STEP 3: Forward-fill quarterly values like GDP if needed ----\n",
    "df_policy_data = df_policy_data.ffill()\n",
    "\n",
    "# ---- STEP 4: Round only numeric columns safely ----\n",
    "numeric_cols = df_policy_data.select_dtypes(include=['float64', 'int64']).columns\n",
    "for col in numeric_cols:\n",
    "    df_policy_data[col] = df_policy_data[col].round(2)\n",
    "\n",
    "# ---- STEP 5: Reset index and name it 'Date' for clean presentation ----\n",
    "df_policy_data = df_policy_data.reset_index()\n",
    "df_policy_data.rename(columns={'index': 'Date'}, inplace=True)\n",
    "\n",
    "# ---- STEP 6: Preview final cleaned dataset ----\n",
    "print(df_policy_data.head())"
   ]
  },
  {
   "cell_type": "code",
   "execution_count": 27,
   "id": "5dd3e8cd-7be8-4c89-9c27-b70e1d487a4a",
   "metadata": {},
   "outputs": [],
   "source": [
    "df_policy_data.to_csv(\"policy_data.csv\", index = False)\n"
   ]
  },
  {
   "cell_type": "code",
   "execution_count": null,
   "id": "044a8045-71d5-464a-92d1-88a37e6c4042",
   "metadata": {},
   "outputs": [],
   "source": []
  }
 ],
 "metadata": {
  "kernelspec": {
   "display_name": "Python [conda env:base] *",
   "language": "python",
   "name": "conda-base-py"
  },
  "language_info": {
   "codemirror_mode": {
    "name": "ipython",
    "version": 3
   },
   "file_extension": ".py",
   "mimetype": "text/x-python",
   "name": "python",
   "nbconvert_exporter": "python",
   "pygments_lexer": "ipython3",
   "version": "3.12.7"
  }
 },
 "nbformat": 4,
 "nbformat_minor": 5
}
